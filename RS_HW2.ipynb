{
 "cells": [
  {
   "cell_type": "code",
   "execution_count": 1,
   "metadata": {
    "colab": {},
    "colab_type": "code",
    "id": "rgIzW-DSC8Yi"
   },
   "outputs": [],
   "source": [
    "import pandas as pd\n",
    "import numpy as np\n",
    "import matplotlib.pyplot as plt\n",
    "%matplotlib inline\n",
    "\n",
    "# Для работы с матрицами\n",
    "from scipy.sparse import csr_matrix, coo_matrix\n",
    "\n",
    "# Детерминированные алгоритмы\n",
    "from implicit.nearest_neighbours import ItemItemRecommender, CosineRecommender, TFIDFRecommender, BM25Recommender\n",
    "\n",
    "# Метрики\n",
    "from implicit.evaluation import train_test_split\n",
    "from implicit.evaluation import precision_at_k, mean_average_precision_at_k, AUC_at_k, ndcg_at_k"
   ]
  },
  {
   "cell_type": "code",
   "execution_count": 2,
   "metadata": {
    "colab": {},
    "colab_type": "code",
    "id": "9qFkcgyrC8Yt",
    "outputId": "24a33bf1-942a-4b18-c54a-a7500c8f8712"
   },
   "outputs": [
    {
     "data": {
      "text/html": [
       "<div>\n",
       "<style scoped>\n",
       "    .dataframe tbody tr th:only-of-type {\n",
       "        vertical-align: middle;\n",
       "    }\n",
       "\n",
       "    .dataframe tbody tr th {\n",
       "        vertical-align: top;\n",
       "    }\n",
       "\n",
       "    .dataframe thead th {\n",
       "        text-align: right;\n",
       "    }\n",
       "</style>\n",
       "<table border=\"1\" class=\"dataframe\">\n",
       "  <thead>\n",
       "    <tr style=\"text-align: right;\">\n",
       "      <th></th>\n",
       "      <th>user_id</th>\n",
       "      <th>basket_id</th>\n",
       "      <th>day</th>\n",
       "      <th>item_id</th>\n",
       "      <th>quantity</th>\n",
       "      <th>sales_value</th>\n",
       "      <th>store_id</th>\n",
       "      <th>retail_disc</th>\n",
       "      <th>trans_time</th>\n",
       "      <th>week_no</th>\n",
       "      <th>coupon_disc</th>\n",
       "      <th>coupon_match_disc</th>\n",
       "    </tr>\n",
       "  </thead>\n",
       "  <tbody>\n",
       "    <tr>\n",
       "      <th>0</th>\n",
       "      <td>2375</td>\n",
       "      <td>26984851472</td>\n",
       "      <td>1</td>\n",
       "      <td>1004906</td>\n",
       "      <td>1</td>\n",
       "      <td>1.39</td>\n",
       "      <td>364</td>\n",
       "      <td>-0.6</td>\n",
       "      <td>1631</td>\n",
       "      <td>1</td>\n",
       "      <td>0.0</td>\n",
       "      <td>0.0</td>\n",
       "    </tr>\n",
       "    <tr>\n",
       "      <th>1</th>\n",
       "      <td>2375</td>\n",
       "      <td>26984851472</td>\n",
       "      <td>1</td>\n",
       "      <td>1033142</td>\n",
       "      <td>1</td>\n",
       "      <td>0.82</td>\n",
       "      <td>364</td>\n",
       "      <td>0.0</td>\n",
       "      <td>1631</td>\n",
       "      <td>1</td>\n",
       "      <td>0.0</td>\n",
       "      <td>0.0</td>\n",
       "    </tr>\n",
       "  </tbody>\n",
       "</table>\n",
       "</div>"
      ],
      "text/plain": [
       "   user_id    basket_id  day  item_id  quantity  sales_value  store_id  \\\n",
       "0     2375  26984851472    1  1004906         1         1.39       364   \n",
       "1     2375  26984851472    1  1033142         1         0.82       364   \n",
       "\n",
       "   retail_disc  trans_time  week_no  coupon_disc  coupon_match_disc  \n",
       "0         -0.6        1631        1          0.0                0.0  \n",
       "1          0.0        1631        1          0.0                0.0  "
      ]
     },
     "execution_count": 2,
     "metadata": {},
     "output_type": "execute_result"
    }
   ],
   "source": [
    "data = pd.read_csv('retail_train.csv')\n",
    "data.head(2)"
   ]
  },
  {
   "cell_type": "code",
   "execution_count": 3,
   "metadata": {
    "colab": {},
    "colab_type": "code",
    "id": "epcBZlgJC8Y0"
   },
   "outputs": [],
   "source": [
    "test_size_weeks = 3\n",
    "\n",
    "data_train = data[data['week_no'] < data['week_no'].max() - test_size_weeks]\n",
    "data_test = data[data['week_no'] >= data['week_no'].max() - test_size_weeks]"
   ]
  },
  {
   "cell_type": "markdown",
   "metadata": {
    "colab_type": "text",
    "id": "zlUUzLFeC8Y4"
   },
   "source": [
    "### Задание 1. Weighted Random Recommendation\n",
    "\n",
    "Напишите код для случайных рекоммендаций, в которых вероятность рекомендовать товар прямо пропорциональна логарифму продаж\n",
    "- Можно сэмплировать товары случайно, но пропорционально какому-либо весу\n",
    "- Например, прямопропорционально популярности. Вес = log(sales_sum товара)"
   ]
  },
  {
   "cell_type": "code",
   "execution_count": 4,
   "metadata": {
    "colab": {},
    "colab_type": "code",
    "id": "brMuCHolC8Y4"
   },
   "outputs": [],
   "source": [
    "def weighted_random_recommendation(items_weights, n=5):\n",
    "    \"\"\"Случайные рекоммендации\n",
    "    \n",
    "    Input\n",
    "    -----\n",
    "    items_weights: pd.DataFrame\n",
    "        Датафрейм со столбцами item_id, weight. Сумма weight по всем товарам = 1\n",
    "    \"\"\"\n",
    "    \n",
    "    recs = np.random.choice(items_weights['item_id'], size=n, replace=False, p=items_weights['weight'])\n",
    "    \n",
    "    return recs.tolist()\n",
    "    \n",
    "    # Подсказка: необходимо модифицировать функцию random_recommendation()\n",
    "    # your_code\n",
    "    \n",
    "    return recs.tolist()"
   ]
  },
  {
   "cell_type": "code",
   "execution_count": 5,
   "metadata": {
    "colab": {},
    "colab_type": "code",
    "id": "nK_AS3tmC8Y7"
   },
   "outputs": [
    {
     "name": "stdout",
     "output_type": "stream",
     "text": [
      "Wall time: 4.62 s\n"
     ]
    }
   ],
   "source": [
    "%%time\n",
    "\n",
    "# your_code\n",
    "\n",
    "weighted_train = data_train.groupby('item_id')['quantity'].sum().reset_index()\n",
    "weighted_train.sort_values('quantity', ascending=False, inplace=True)\n",
    "weighted_train['weight'] = np.log10(weighted_train['quantity'] / weighted_train['quantity'].sum() + 1)\n",
    "weighted_train['weight'] = weighted_train['weight'] / weighted_train['weight'].sum()\n",
    "weighted_train\n",
    "\n",
    "result_test = data_test.groupby('user_id')['item_id'].unique().reset_index()\n",
    "result_test.columns = ['user_id', 'actual']\n",
    "\n",
    "result_test['w_random'] = result_test['user_id'].apply(lambda x: weighted_random_recommendation(weighted_train))"
   ]
  },
  {
   "cell_type": "code",
   "execution_count": 6,
   "metadata": {},
   "outputs": [
    {
     "data": {
      "text/html": [
       "<div>\n",
       "<style scoped>\n",
       "    .dataframe tbody tr th:only-of-type {\n",
       "        vertical-align: middle;\n",
       "    }\n",
       "\n",
       "    .dataframe tbody tr th {\n",
       "        vertical-align: top;\n",
       "    }\n",
       "\n",
       "    .dataframe thead th {\n",
       "        text-align: right;\n",
       "    }\n",
       "</style>\n",
       "<table border=\"1\" class=\"dataframe\">\n",
       "  <thead>\n",
       "    <tr style=\"text-align: right;\">\n",
       "      <th></th>\n",
       "      <th>user_id</th>\n",
       "      <th>actual</th>\n",
       "      <th>w_random</th>\n",
       "    </tr>\n",
       "  </thead>\n",
       "  <tbody>\n",
       "    <tr>\n",
       "      <th>0</th>\n",
       "      <td>1</td>\n",
       "      <td>[821867, 834484, 856942, 865456, 889248, 90795...</td>\n",
       "      <td>[6534178, 6533889, 6534166, 480014, 1404121]</td>\n",
       "    </tr>\n",
       "    <tr>\n",
       "      <th>1</th>\n",
       "      <td>3</td>\n",
       "      <td>[835476, 851057, 872021, 878302, 879948, 90963...</td>\n",
       "      <td>[6533889, 6534178, 480014, 6534166, 1404121]</td>\n",
       "    </tr>\n",
       "    <tr>\n",
       "      <th>2</th>\n",
       "      <td>6</td>\n",
       "      <td>[920308, 926804, 946489, 1006718, 1017061, 107...</td>\n",
       "      <td>[6534178, 6534166, 6533889, 5668996, 6544236]</td>\n",
       "    </tr>\n",
       "  </tbody>\n",
       "</table>\n",
       "</div>"
      ],
      "text/plain": [
       "   user_id                                             actual  \\\n",
       "0        1  [821867, 834484, 856942, 865456, 889248, 90795...   \n",
       "1        3  [835476, 851057, 872021, 878302, 879948, 90963...   \n",
       "2        6  [920308, 926804, 946489, 1006718, 1017061, 107...   \n",
       "\n",
       "                                        w_random  \n",
       "0   [6534178, 6533889, 6534166, 480014, 1404121]  \n",
       "1   [6533889, 6534178, 480014, 6534166, 1404121]  \n",
       "2  [6534178, 6534166, 6533889, 5668996, 6544236]  "
      ]
     },
     "execution_count": 6,
     "metadata": {},
     "output_type": "execute_result"
    }
   ],
   "source": [
    "result_test.head(3)"
   ]
  },
  {
   "cell_type": "markdown",
   "metadata": {
    "colab_type": "text",
    "id": "hyNG6O-wC8Y_"
   },
   "source": [
    "### Задание 2. Расчет метрик\n",
    "Рассчитайте Precision@5 для каждого алгоритма с помощью функции из вебинара 1. Какой алгоритм показывает лучшее качество?"
   ]
  },
  {
   "cell_type": "code",
   "execution_count": 7,
   "metadata": {
    "colab": {},
    "colab_type": "code",
    "id": "36HtRgm8C8ZA",
    "outputId": "971ccba1-6f06-4ac8-fd2d-10ba527e0fe5"
   },
   "outputs": [
    {
     "data": {
      "text/html": [
       "<div>\n",
       "<style scoped>\n",
       "    .dataframe tbody tr th:only-of-type {\n",
       "        vertical-align: middle;\n",
       "    }\n",
       "\n",
       "    .dataframe tbody tr th {\n",
       "        vertical-align: top;\n",
       "    }\n",
       "\n",
       "    .dataframe thead th {\n",
       "        text-align: right;\n",
       "    }\n",
       "</style>\n",
       "<table border=\"1\" class=\"dataframe\">\n",
       "  <thead>\n",
       "    <tr style=\"text-align: right;\">\n",
       "      <th></th>\n",
       "      <th>user_id</th>\n",
       "      <th>actual</th>\n",
       "      <th>random_recommendation</th>\n",
       "      <th>popular_recommendation</th>\n",
       "      <th>itemitem</th>\n",
       "      <th>cosine</th>\n",
       "      <th>tfidf</th>\n",
       "      <th>own_purchases</th>\n",
       "    </tr>\n",
       "  </thead>\n",
       "  <tbody>\n",
       "    <tr>\n",
       "      <th>0</th>\n",
       "      <td>1</td>\n",
       "      <td>[  821867   834484   856942   865456   889248 ...</td>\n",
       "      <td>[1019719, 2332987, 5550112, 9858801, 1072575]</td>\n",
       "      <td>[6534178, 6533889, 1029743, 6534166, 1082185]</td>\n",
       "      <td>[999999, 1082185, 981760, 1127831, 995242]</td>\n",
       "      <td>[1082185, 999999, 981760, 1127831, 1098066]</td>\n",
       "      <td>[1082185, 981760, 1127831, 999999, 1098066]</td>\n",
       "      <td>[1082185, 1029743, 995785, 1004906, 1081177]</td>\n",
       "    </tr>\n",
       "    <tr>\n",
       "      <th>1</th>\n",
       "      <td>3</td>\n",
       "      <td>[  835476   851057   872021   878302   879948 ...</td>\n",
       "      <td>[839002, 13158305, 12354593, 8199063, 15597006]</td>\n",
       "      <td>[6534178, 6533889, 1029743, 6534166, 1082185]</td>\n",
       "      <td>[999999, 1082185, 981760, 1098066, 995242]</td>\n",
       "      <td>[1082185, 1098066, 981760, 999999, 826249]</td>\n",
       "      <td>[1082185, 981760, 1098066, 826249, 999999]</td>\n",
       "      <td>[1082185, 1098066, 6534178, 1127831, 1068719]</td>\n",
       "    </tr>\n",
       "  </tbody>\n",
       "</table>\n",
       "</div>"
      ],
      "text/plain": [
       "   user_id                                             actual  \\\n",
       "0        1  [  821867   834484   856942   865456   889248 ...   \n",
       "1        3  [  835476   851057   872021   878302   879948 ...   \n",
       "\n",
       "                             random_recommendation  \\\n",
       "0    [1019719, 2332987, 5550112, 9858801, 1072575]   \n",
       "1  [839002, 13158305, 12354593, 8199063, 15597006]   \n",
       "\n",
       "                          popular_recommendation  \\\n",
       "0  [6534178, 6533889, 1029743, 6534166, 1082185]   \n",
       "1  [6534178, 6533889, 1029743, 6534166, 1082185]   \n",
       "\n",
       "                                     itemitem  \\\n",
       "0  [999999, 1082185, 981760, 1127831, 995242]   \n",
       "1  [999999, 1082185, 981760, 1098066, 995242]   \n",
       "\n",
       "                                        cosine  \\\n",
       "0  [1082185, 999999, 981760, 1127831, 1098066]   \n",
       "1   [1082185, 1098066, 981760, 999999, 826249]   \n",
       "\n",
       "                                         tfidf  \\\n",
       "0  [1082185, 981760, 1127831, 999999, 1098066]   \n",
       "1   [1082185, 981760, 1098066, 826249, 999999]   \n",
       "\n",
       "                                   own_purchases  \n",
       "0   [1082185, 1029743, 995785, 1004906, 1081177]  \n",
       "1  [1082185, 1098066, 6534178, 1127831, 1068719]  "
      ]
     },
     "execution_count": 7,
     "metadata": {},
     "output_type": "execute_result"
    }
   ],
   "source": [
    "result = pd.read_csv('predictions_basic.csv')\n",
    "result.head(2)"
   ]
  },
  {
   "cell_type": "code",
   "execution_count": 8,
   "metadata": {},
   "outputs": [
    {
     "data": {
      "text/html": [
       "<div>\n",
       "<style scoped>\n",
       "    .dataframe tbody tr th:only-of-type {\n",
       "        vertical-align: middle;\n",
       "    }\n",
       "\n",
       "    .dataframe tbody tr th {\n",
       "        vertical-align: top;\n",
       "    }\n",
       "\n",
       "    .dataframe thead th {\n",
       "        text-align: right;\n",
       "    }\n",
       "</style>\n",
       "<table border=\"1\" class=\"dataframe\">\n",
       "  <thead>\n",
       "    <tr style=\"text-align: right;\">\n",
       "      <th></th>\n",
       "      <th>user_id</th>\n",
       "      <th>actual</th>\n",
       "      <th>random_recommendation</th>\n",
       "      <th>popular_recommendation</th>\n",
       "      <th>itemitem</th>\n",
       "      <th>cosine</th>\n",
       "      <th>tfidf</th>\n",
       "      <th>own_purchases</th>\n",
       "    </tr>\n",
       "  </thead>\n",
       "  <tbody>\n",
       "    <tr>\n",
       "      <th>0</th>\n",
       "      <td>1</td>\n",
       "      <td>[821867, 834484, 856942, 865456, 889248, 90795...</td>\n",
       "      <td>[1019719, 2332987, 5550112, 9858801, 1072575]</td>\n",
       "      <td>[6534178, 6533889, 1029743, 6534166, 1082185]</td>\n",
       "      <td>[999999, 1082185, 981760, 1127831, 995242]</td>\n",
       "      <td>[1082185, 999999, 981760, 1127831, 1098066]</td>\n",
       "      <td>[1082185, 981760, 1127831, 999999, 1098066]</td>\n",
       "      <td>[1082185, 1029743, 995785, 1004906, 1081177]</td>\n",
       "    </tr>\n",
       "    <tr>\n",
       "      <th>1</th>\n",
       "      <td>3</td>\n",
       "      <td>[835476, 851057, 872021, 878302, 879948, 90963...</td>\n",
       "      <td>[839002, 13158305, 12354593, 8199063, 15597006]</td>\n",
       "      <td>[6534178, 6533889, 1029743, 6534166, 1082185]</td>\n",
       "      <td>[999999, 1082185, 981760, 1098066, 995242]</td>\n",
       "      <td>[1082185, 1098066, 981760, 999999, 826249]</td>\n",
       "      <td>[1082185, 981760, 1098066, 826249, 999999]</td>\n",
       "      <td>[1082185, 1098066, 6534178, 1127831, 1068719]</td>\n",
       "    </tr>\n",
       "  </tbody>\n",
       "</table>\n",
       "</div>"
      ],
      "text/plain": [
       "   user_id                                             actual  \\\n",
       "0        1  [821867, 834484, 856942, 865456, 889248, 90795...   \n",
       "1        3  [835476, 851057, 872021, 878302, 879948, 90963...   \n",
       "\n",
       "                             random_recommendation  \\\n",
       "0    [1019719, 2332987, 5550112, 9858801, 1072575]   \n",
       "1  [839002, 13158305, 12354593, 8199063, 15597006]   \n",
       "\n",
       "                          popular_recommendation  \\\n",
       "0  [6534178, 6533889, 1029743, 6534166, 1082185]   \n",
       "1  [6534178, 6533889, 1029743, 6534166, 1082185]   \n",
       "\n",
       "                                     itemitem  \\\n",
       "0  [999999, 1082185, 981760, 1127831, 995242]   \n",
       "1  [999999, 1082185, 981760, 1098066, 995242]   \n",
       "\n",
       "                                        cosine  \\\n",
       "0  [1082185, 999999, 981760, 1127831, 1098066]   \n",
       "1   [1082185, 1098066, 981760, 999999, 826249]   \n",
       "\n",
       "                                         tfidf  \\\n",
       "0  [1082185, 981760, 1127831, 999999, 1098066]   \n",
       "1   [1082185, 981760, 1098066, 826249, 999999]   \n",
       "\n",
       "                                   own_purchases  \n",
       "0   [1082185, 1029743, 995785, 1004906, 1081177]  \n",
       "1  [1082185, 1098066, 6534178, 1127831, 1068719]  "
      ]
     },
     "execution_count": 8,
     "metadata": {},
     "output_type": "execute_result"
    }
   ],
   "source": [
    "result.actual = result.actual.replace('[ ]+', ',', regex=True).replace('\\[,', '[', regex=True).replace('\\],', ']', regex=True)\n",
    "clm = result.columns.to_list()\n",
    "clm.remove('user_id')\n",
    "\n",
    "for c in clm:\n",
    "    result[c] = result[c].apply(lambda x: eval(x))\n",
    "\n",
    "clm.remove('actual') # для будущих вычислений\n",
    "\n",
    "result.head(2)"
   ]
  },
  {
   "cell_type": "code",
   "execution_count": 9,
   "metadata": {
    "colab": {},
    "colab_type": "code",
    "id": "_0cu0VeTC8ZD"
   },
   "outputs": [],
   "source": [
    "# your_code\n",
    "\n",
    "def precision_at_k(recommended_list, bought_list, k=5):\n",
    "    \n",
    "    bought_list = np.array(bought_list)\n",
    "    recommended_list = np.array(recommended_list)\n",
    "    \n",
    "    bought_list = bought_list\n",
    "    recommended_list = recommended_list[:k]\n",
    "    \n",
    "    flags = np.isin(bought_list, recommended_list)\n",
    "    \n",
    "    precision = flags.sum() / len(recommended_list)\n",
    "    \n",
    "    return precision\n",
    "\n",
    "def ap_k(recommended_list, bought_list, k=5):\n",
    "    \n",
    "    bought_list = np.array(bought_list)\n",
    "    recommended_list = np.array(recommended_list)[:k]\n",
    "    \n",
    "    relevant_indexes = np.nonzero(np.isin(recommended_list, bought_list))[0]\n",
    "    \n",
    "    if len(relevant_indexes) == 0:\n",
    "        return 0\n",
    "    \n",
    "    amount_relevant = len(relevant_indexes)\n",
    "    \n",
    "    sum_ = sum([precision_at_k(recommended_list, bought_list, k=index_relevant+1) for index_relevant in relevant_indexes])\n",
    "    return sum_/amount_relevant\n",
    "\n",
    "def map_k(recommended_list, bought_list, k=5):\n",
    "    \n",
    "    result = []\n",
    "    for i in range(len(bought_list)):\n",
    "        result.append(ap_k(recommended_list[i], bought_list[i], k))\n",
    "    \n",
    "    result = sum(result) / len(bought_list)\n",
    "    \n",
    "    return result"
   ]
  },
  {
   "cell_type": "code",
   "execution_count": 10,
   "metadata": {},
   "outputs": [
    {
     "name": "stdout",
     "output_type": "stream",
     "text": [
      "random_recommendation         : 0.00169\n",
      "popular_recommendation        : 0.25681\n",
      "itemitem                      : 0.22094\n",
      "cosine                        : 0.37428\n",
      "tfidf                         : 0.3816\n",
      "own_purchases                 : 0.42562\n"
     ]
    }
   ],
   "source": [
    "for c in clm:\n",
    "    print(f'{c:30}: {round(map_k(result[c], result[\"actual\"]), 5)}')"
   ]
  },
  {
   "cell_type": "markdown",
   "metadata": {
    "colab_type": "text",
    "id": "igDU0j1cC8ZH"
   },
   "source": [
    "### Задание 3*. Улучшение бейзлайнов и ItemItem\n",
    "\n",
    "- Попробуйте улучшить бейзлайны, считая их на топ-5000 товаров"
   ]
  },
  {
   "cell_type": "code",
   "execution_count": 11,
   "metadata": {},
   "outputs": [],
   "source": [
    "# your_code\n",
    "popularity = data_train.groupby('item_id')['quantity'].sum().reset_index().sort_values('quantity', ascending=False)\n",
    "popularity.rename(columns={'quantity': 'n_sold'}, inplace=True)\n",
    "top = popularity.item_id.to_list()"
   ]
  },
  {
   "cell_type": "code",
   "execution_count": 15,
   "metadata": {
    "colab": {},
    "colab_type": "code",
    "id": "zYBR3cMPC8ZH"
   },
   "outputs": [
    {
     "data": {
      "text/plain": [
       "{5000: 0.18403525954946123,\n",
       " 10000: 0.1840270976167156,\n",
       " 15000: 0.18455354227881154,\n",
       " 20000: 0.1849194689302426,\n",
       " 25000: 0.18307215148547162,\n",
       " 30000: 0.18686200892371307}"
      ]
     },
     "execution_count": 15,
     "metadata": {},
     "output_type": "execute_result"
    }
   ],
   "source": [
    "res = dict()\n",
    "for i in range(5, 31, 5):\n",
    "    copy_w_train = weighted_train.copy()\n",
    "    copy_w_train.loc[~copy_w_train['item_id'].isin(top[:i * 1000]), 'item_id'] = 999999\n",
    "    copy_w_train = copy_w_train.groupby('item_id')['quantity'].sum().reset_index()\n",
    "    copy_w_train['weight'] = np.log10(copy_w_train['quantity'] / copy_w_train['quantity'].sum() + 1)\n",
    "    copy_w_train['weight'] = copy_w_train['weight'] / copy_w_train['weight'].sum()\n",
    "    \n",
    "    result_test['w_i_random'] = result_test['user_id'].apply(lambda x: weighted_random_recommendation(copy_w_train))\n",
    "    res[i * 1000] = map_k(result_test.w_i_random, result_test.actual)\n",
    "\n",
    "res"
   ]
  },
  {
   "cell_type": "markdown",
   "metadata": {},
   "source": [
    "- Попробуйте улучшить разные варианты ItemItemRecommender, выбирая число соседей $K$."
   ]
  },
  {
   "cell_type": "code",
   "execution_count": 16,
   "metadata": {},
   "outputs": [],
   "source": [
    "top_data_train = data_train.copy()\n",
    "top_data_train.loc[~top_data_train.item_id.isin(top[:5000]), 'item_id'] = 999999\n",
    "\n",
    "user_item_matrix_train = pd.pivot_table(top_data_train, \n",
    "                                  index='user_id', columns='item_id', \n",
    "                                  values='quantity',\n",
    "                                  aggfunc='count', \n",
    "                                  fill_value=0\n",
    "                                 )\n",
    "\n",
    "userids = user_item_matrix_train.index.values\n",
    "itemids = user_item_matrix_train.columns.values\n",
    "\n",
    "matrix_userids = np.arange(len(userids))\n",
    "matrix_itemids = np.arange(len(itemids))\n",
    "\n",
    "id_to_itemid = dict(zip(matrix_itemids, itemids))\n",
    "id_to_userid = dict(zip(matrix_userids, userids))\n",
    "\n",
    "itemid_to_id = dict(zip(itemids, matrix_itemids))\n",
    "userid_to_id = dict(zip(userids, matrix_userids))"
   ]
  },
  {
   "cell_type": "code",
   "execution_count": 17,
   "metadata": {},
   "outputs": [],
   "source": [
    "user_item_matrix_train = user_item_matrix_train.astype('float')\n",
    "sparse_user_item_train = csr_matrix(user_item_matrix_train).tocsr()\n",
    "sparse_user_item_train_T = csr_matrix(user_item_matrix_train).T.tocsr()"
   ]
  },
  {
   "cell_type": "code",
   "execution_count": 35,
   "metadata": {},
   "outputs": [
    {
     "data": {
      "text/plain": [
       "{1: 0.0,\n",
       " 2: 0.3092148220698674,\n",
       " 3: 0.2886229459135928,\n",
       " 4: 0.2667224398737619,\n",
       " 5: 0.24875802590053253,\n",
       " 6: 0.24875802590053253,\n",
       " 7: 0.24875802590053253,\n",
       " 8: 0.24875802590053253,\n",
       " 9: 0.24875802590053253,\n",
       " 10: 0.24875802590053253,\n",
       " 11: 0.24875802590053253,\n",
       " 12: 0.24875802590053253,\n",
       " 13: 0.24875802590053253,\n",
       " 14: 0.24875802590053253,\n",
       " 15: 0.24875802590053253,\n",
       " 16: 0.24875802590053253,\n",
       " 17: 0.24875802590053253,\n",
       " 18: 0.24875802590053253,\n",
       " 19: 0.24875802590053253}"
      ]
     },
     "execution_count": 35,
     "metadata": {},
     "output_type": "execute_result"
    }
   ],
   "source": [
    "res = dict()\n",
    "for k in range(1, 20):\n",
    "    model = ItemItemRecommender(K=k, num_threads=-1)\n",
    "\n",
    "    model.fit(sparse_user_item_train_T,  # На вход item-user matrix\n",
    "              show_progress=False)\n",
    "\n",
    "    result_test['itemitem'] = result_test['user_id'].apply(lambda x: [id_to_itemid[rec[0]] for rec in \n",
    "                                                                      model.recommend(userid=userid_to_id[x],\n",
    "                                                                                      user_items=sparse_user_item_train,   # на вход user-item matrix\n",
    "                                                                                      N=5,\n",
    "                                                                                      filter_already_liked_items=False,\n",
    "                                                                                      filter_items=None,\n",
    "                                                                                      recalculate_user=False)])\n",
    "\n",
    "    res[k] = map_k(result_test.itemitem, result_test.actual)\n",
    "res"
   ]
  },
  {
   "cell_type": "markdown",
   "metadata": {},
   "source": [
    "Начиная с 5 соседей метрика никак не меняется, до этого значения наблюдаются значения повыше."
   ]
  }
 ],
 "metadata": {
  "colab": {
   "name": "hw_webinar_2.ipynb",
   "provenance": []
  },
  "kernelspec": {
   "display_name": "Python 3",
   "language": "python",
   "name": "python3"
  },
  "language_info": {
   "codemirror_mode": {
    "name": "ipython",
    "version": 3
   },
   "file_extension": ".py",
   "mimetype": "text/x-python",
   "name": "python",
   "nbconvert_exporter": "python",
   "pygments_lexer": "ipython3",
   "version": "3.8.5"
  },
  "toc": {
   "base_numbering": 1,
   "nav_menu": {},
   "number_sections": false,
   "sideBar": true,
   "skip_h1_title": false,
   "title_cell": "Table of Contents",
   "title_sidebar": "Contents",
   "toc_cell": false,
   "toc_position": {},
   "toc_section_display": true,
   "toc_window_display": false
  }
 },
 "nbformat": 4,
 "nbformat_minor": 1
}
